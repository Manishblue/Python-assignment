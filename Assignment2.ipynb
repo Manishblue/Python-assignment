{
 "cells": [
  {
   "cell_type": "code",
   "execution_count": 1,
   "id": "5b7db914-8bf5-467e-88d3-33e496df5bc2",
   "metadata": {},
   "outputs": [
    {
     "data": {
      "text/plain": [
       "'Q1. Explain with an example each when to use a for loop and a while loop.'"
      ]
     },
     "execution_count": 1,
     "metadata": {},
     "output_type": "execute_result"
    }
   ],
   "source": [
    "\"\"\"Q1. Explain with an example each when to use a for loop and a while loop.\"\"\""
   ]
  },
  {
   "cell_type": "code",
   "execution_count": 2,
   "id": "577d1aca-f2d1-4015-9d83-7436dafa95bd",
   "metadata": {},
   "outputs": [
    {
     "name": "stdout",
     "output_type": "stream",
     "text": [
      "0\n",
      "1\n",
      "2\n",
      "3\n",
      "4\n"
     ]
    }
   ],
   "source": [
    "#For Loop:\n",
    "#Use a for loop when:\n",
    "\n",
    "#Iterating over a known sequence or range:\n",
    "\n",
    "#Example:\n",
    "#python\n",
    "#Copy code\n",
    "for i in range(5):\n",
    "    print(i)"
   ]
  },
  {
   "cell_type": "code",
   "execution_count": 3,
   "id": "85c3a674-991e-4c6a-a752-ce32ff0748ef",
   "metadata": {},
   "outputs": [
    {
     "name": "stdout",
     "output_type": "stream",
     "text": [
      "apple\n",
      "banana\n",
      "cherry\n"
     ]
    }
   ],
   "source": [
    "#Iterating over elements in a collection:\n",
    "\n",
    "#Example:\n",
    "#python\n",
    "#Copy code\n",
    "fruits = [\"apple\", \"banana\", \"cherry\"]\n",
    "for fruit in fruits:\n",
    "    print(fruit)"
   ]
  },
  {
   "cell_type": "code",
   "execution_count": 4,
   "id": "7ab01389-9fce-4333-a436-4b1a637aced2",
   "metadata": {},
   "outputs": [
    {
     "name": "stdout",
     "output_type": "stream",
     "text": [
      "Iteration 1\n",
      "Iteration 2\n",
      "Iteration 3\n",
      "Iteration 4\n",
      "Iteration 5\n"
     ]
    }
   ],
   "source": [
    "#When the number of iterations is known:\n",
    "\n",
    "#Example:\n",
    "for i in range(1, 6):\n",
    "    print(\"Iteration\", i)"
   ]
  },
  {
   "cell_type": "code",
   "execution_count": 5,
   "id": "8dc98df3-c092-420e-b503-b1002d6bc198",
   "metadata": {},
   "outputs": [
    {
     "name": "stdout",
     "output_type": "stream",
     "text": [
      "0\n",
      "1\n",
      "2\n",
      "3\n",
      "4\n"
     ]
    }
   ],
   "source": [
    "#While Loop:\n",
    "#Use a while loop when:\n",
    "\n",
    "#Iterating until a specific condition is met:\n",
    "count = 0\n",
    "while count < 5:\n",
    "    print(count)\n",
    "    count += 1"
   ]
  },
  {
   "cell_type": "code",
   "execution_count": 6,
   "id": "7f64f513-83ae-4f88-924b-602f8ba459b4",
   "metadata": {},
   "outputs": [
    {
     "name": "stdin",
     "output_type": "stream",
     "text": [
      "Enter a value (type 'quit' to exit):  quit\n"
     ]
    },
    {
     "name": "stdout",
     "output_type": "stream",
     "text": [
      "You entered: quit\n"
     ]
    }
   ],
   "source": [
    "#Handling situations where the number of iterations is unknown:\n",
    "\n",
    "#Example:\n",
    "user_input = \"\"\n",
    "while user_input != \"quit\":\n",
    "    user_input = input(\"Enter a value (type 'quit' to exit): \")\n",
    "    print(\"You entered:\", user_input)"
   ]
  },
  {
   "cell_type": "code",
   "execution_count": 7,
   "id": "86c485e1-71af-438a-b3e9-4e1321fa7710",
   "metadata": {},
   "outputs": [
    {
     "name": "stdout",
     "output_type": "stream",
     "text": [
      "10\n",
      "8\n",
      "6\n",
      "4\n",
      "2\n"
     ]
    }
   ],
   "source": [
    "#Performing tasks based on a dynamic condition:\n",
    "\n",
    "#Example:\n",
    "#python\n",
    "#Copy code\n",
    "x = 10\n",
    "while x > 0:\n",
    "    print(x)\n",
    "    x -= 2"
   ]
  },
  {
   "cell_type": "code",
   "execution_count": 8,
   "id": "40211602-44e4-4603-9bc2-67fe9daa7bf8",
   "metadata": {},
   "outputs": [],
   "source": [
    "#Q2. Write a python program to print the sum and product of the first 10 natural numbers using for\n",
    "#and while loop."
   ]
  },
  {
   "cell_type": "code",
   "execution_count": 13,
   "id": "07de1e57-d819-4dd9-97cc-c30f3fb8d53b",
   "metadata": {},
   "outputs": [
    {
     "name": "stdout",
     "output_type": "stream",
     "text": [
      "Using for loop:\n",
      "Sum: 55\n",
      "Product: 3628800\n",
      "\n",
      "Using while loop:\n",
      "Sum: 55\n",
      "Product: 3628800\n"
     ]
    }
   ],
   "source": [
    "# Python programs using both for and while loops to calculate the sum and product of the first 10 natural numbers:\n",
    "\n",
    "# Using For Loop:\n",
    "# python\n",
    "# Copy code\n",
    "# Using for loop to calculate sum and product of the first 10 natural numbers\n",
    "\n",
    "# Initialize variables\n",
    "sum_result = 0\n",
    "product_result = 1\n",
    "\n",
    "# Calculate sum and product using a for loop\n",
    "for num in range(1, 11):\n",
    "    sum_result += num\n",
    "    product_result *= num\n",
    "\n",
    "# Print the results\n",
    "print(\"Using for loop:\")\n",
    "print(\"Sum:\", sum_result)\n",
    "print(\"Product:\", product_result)\n",
    "# Using While Loop:\n",
    "# python\n",
    "# Copy code\n",
    "# Using while loop to calculate sum and product of the first 10 natural numbers\n",
    "\n",
    "# Initialize variables and counter\n",
    "counter = 1\n",
    "sum_result = 0\n",
    "product_result = 1\n",
    "\n",
    "# Calculate sum and product using a while loop\n",
    "while counter <= 10:\n",
    "    sum_result += counter\n",
    "    product_result *= counter\n",
    "    counter += 1\n",
    "\n",
    "# Print the results\n",
    "print(\"\\nUsing while loop:\")\n",
    "print(\"Sum:\", sum_result)\n",
    "print(\"Product:\", product_result)\n"
   ]
  },
  {
   "cell_type": "code",
   "execution_count": 14,
   "id": "9f9e1e81-d592-4e65-89de-797e1f31ca59",
   "metadata": {},
   "outputs": [],
   "source": [
    "# Q3. Create a python program to compute the electricity bill for a household.\n",
    "\n",
    "# The per-unit charges in rupees are as follows: For the first 100 units, the user will be charged Rs. 4.5 per\n",
    "# unit, for the next 100 units, the user will be charged Rs. 6 per unit, and for the next 100 units, the user will\n",
    "# be charged Rs. 10 per unit, After 300 units and above the user will be charged Rs. 20 per unit.\n",
    "# You are required to take the units of electricity consumed in a month from the user as input.\n",
    "# Your program must pass this test case: when the unit of electricity consumed by the user in a month is\n",
    "# 310, the total electricity bill should be 2250."
   ]
  },
  {
   "cell_type": "code",
   "execution_count": 15,
   "id": "d64f34a7-ca18-454c-8638-afb0949451ea",
   "metadata": {},
   "outputs": [
    {
     "name": "stdin",
     "output_type": "stream",
     "text": [
      "Enter the number of units consumed in a month:  223\n"
     ]
    },
    {
     "name": "stdout",
     "output_type": "stream",
     "text": [
      "Total Electricity Bill: Rs. 1280.0\n"
     ]
    }
   ],
   "source": [
    "# Electricity bill calculation program\n",
    "\n",
    "# Input the units consumed from the user\n",
    "units_consumed = float(input(\"Enter the number of units consumed in a month: \"))\n",
    "\n",
    "# Define per-unit charges\n",
    "charge_1 = 4.5  # Rs. 4.5 per unit for the first 100 units\n",
    "charge_2 = 6.0  # Rs. 6 per unit for the next 100 units\n",
    "charge_3 = 10.0  # Rs. 10 per unit for the next 100 units\n",
    "charge_4 = 20.0  # Rs. 20 per unit for units above 300\n",
    "\n",
    "# Initialize total bill\n",
    "total_bill = 0.0\n",
    "\n",
    "# Calculate the bill based on the slab\n",
    "if units_consumed <= 100:\n",
    "    total_bill = units_consumed * charge_1\n",
    "elif units_consumed <= 200:\n",
    "    total_bill = 100 * charge_1 + (units_consumed - 100) * charge_2\n",
    "elif units_consumed <= 300:\n",
    "    total_bill = 100 * charge_1 + 100 * charge_2 + (units_consumed - 200) * charge_3\n",
    "else:\n",
    "    total_bill = 100 * charge_1 + 100 * charge_2 + 100 * charge_3 + (units_consumed - 300) * charge_4\n",
    "\n",
    "# Display the total bill\n",
    "print(\"Total Electricity Bill: Rs.\", total_bill)"
   ]
  },
  {
   "cell_type": "code",
   "execution_count": 16,
   "id": "36cfd80d-0104-411d-9b6c-cf50b66837af",
   "metadata": {},
   "outputs": [],
   "source": [
    "# Q4. Create a list of numbers from 1 to 100. Use for loop and while loop to calculate the cube of each\n",
    "# number and if the cube of that number is divisible by 4 or 5 then append that number in a list and print\n",
    "# that list."
   ]
  },
  {
   "cell_type": "code",
   "execution_count": 21,
   "id": "b7d56ff5-08f8-47df-9455-896ad1b54df3",
   "metadata": {},
   "outputs": [
    {
     "name": "stdout",
     "output_type": "stream",
     "text": [
      "Using for loop: [2, 4, 5, 6, 8, 10, 12, 14, 15, 16, 18, 20, 22, 24, 25, 26, 28, 30, 32, 34, 35, 36, 38, 40, 42, 44, 45, 46, 48, 50, 52, 54, 55, 56, 58, 60, 62, 64, 65, 66, 68, 70, 72, 74, 75, 76, 78, 80, 82, 84, 85, 86, 88, 90, 92, 94, 95, 96, 98, 100]\n"
     ]
    }
   ],
   "source": [
    "# Using For Loop:\n",
    "# python\n",
    "# Copy code\n",
    "# Using for loop to calculate the cube of each number and filter based on divisibility\n",
    "\n",
    "# Initialize an empty list to store numbers\n",
    "result_list_for = []\n",
    "\n",
    "# Calculate the cube of each number and append to the list if divisible by 4 or 5\n",
    "for num in range(1, 101):\n",
    "    cube = num ** 3\n",
    "    if cube % 4 == 0 or cube % 5 == 0:\n",
    "        result_list_for.append(num)\n",
    "# Print the list\n",
    "print(\"Using for loop:\", result_list_for)\n"
   ]
  },
  {
   "cell_type": "code",
   "execution_count": 22,
   "id": "85a86331-609e-4120-89c6-518377bbe86e",
   "metadata": {},
   "outputs": [
    {
     "name": "stdout",
     "output_type": "stream",
     "text": [
      "Using while loop: [2, 4, 5, 6, 8, 10, 12, 14, 15, 16, 18, 20, 22, 24, 25, 26, 28, 30, 32, 34, 35, 36, 38, 40, 42, 44, 45, 46, 48, 50, 52, 54, 55, 56, 58, 60, 62, 64, 65, 66, 68, 70, 72, 74, 75, 76, 78, 80, 82, 84, 85, 86, 88, 90, 92, 94, 95, 96, 98, 100]\n"
     ]
    }
   ],
   "source": [
    "# Using while loop to calculate the cube of each number and filter based on divisibility\n",
    "\n",
    "# Initialize an empty list to store numbers\n",
    "result_list_while = []\n",
    "\n",
    "# Initialize counter\n",
    "num = 1\n",
    "\n",
    "# Calculate the cube of each number and append to the list if divisible by 4 or 5\n",
    "while num <= 100:\n",
    "    cube = num ** 3\n",
    "    if cube % 4 == 0 or cube % 5 == 0:\n",
    "        result_list_while.append(num)\n",
    "    num += 1\n",
    "\n",
    "# Print the list\n",
    "print(\"Using while loop:\", result_list_while)"
   ]
  },
  {
   "cell_type": "code",
   "execution_count": 23,
   "id": "a6e33265-2329-4f0f-860a-502409159a82",
   "metadata": {},
   "outputs": [],
   "source": [
    "# Q5. Write a program to filter count vowels in the below-given string.\n",
    "# string = \"I want to become a data scientist\""
   ]
  },
  {
   "cell_type": "code",
   "execution_count": 24,
   "id": "16b3e0a6-93c7-4d05-9303-7f726062addd",
   "metadata": {},
   "outputs": [
    {
     "name": "stdout",
     "output_type": "stream",
     "text": [
      "Number of vowels in the given string: 12\n"
     ]
    }
   ],
   "source": [
    "# Program to count vowels in a string\n",
    "\n",
    "# Given string\n",
    "input_string = \"I want to become a data scientist\"\n",
    "\n",
    "# Convert the string to lowercase to handle both uppercase and lowercase vowels\n",
    "lowercase_string = input_string.lower()\n",
    "\n",
    "# Define a set of vowels\n",
    "vowels = {'a', 'e', 'i', 'o', 'u'}\n",
    "\n",
    "# Initialize a counter for vowels\n",
    "vowel_count = 0\n",
    "\n",
    "# Iterate through each character in the string and count vowels\n",
    "for char in lowercase_string:\n",
    "    if char in vowels:\n",
    "        vowel_count += 1\n",
    "\n",
    "# Print the result\n",
    "print(\"Number of vowels in the given string:\", vowel_count)"
   ]
  },
  {
   "cell_type": "code",
   "execution_count": null,
   "id": "2343276b-2272-4052-ba0c-03c2732f1bda",
   "metadata": {},
   "outputs": [],
   "source": []
  }
 ],
 "metadata": {
  "kernelspec": {
   "display_name": "Python 3 (ipykernel)",
   "language": "python",
   "name": "python3"
  },
  "language_info": {
   "codemirror_mode": {
    "name": "ipython",
    "version": 3
   },
   "file_extension": ".py",
   "mimetype": "text/x-python",
   "name": "python",
   "nbconvert_exporter": "python",
   "pygments_lexer": "ipython3",
   "version": "3.10.8"
  }
 },
 "nbformat": 4,
 "nbformat_minor": 5
}
